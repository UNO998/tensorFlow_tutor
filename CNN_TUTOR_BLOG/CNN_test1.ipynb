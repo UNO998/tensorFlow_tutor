{
  "nbformat": 4,
  "nbformat_minor": 0,
  "metadata": {
    "colab": {
      "name": "CNN_test1.ipynb",
      "version": "0.3.2",
      "provenance": [],
      "collapsed_sections": [],
      "include_colab_link": true
    },
    "kernelspec": {
      "name": "python3",
      "display_name": "Python 3"
    }
  },
  "cells": [
    {
      "cell_type": "markdown",
      "metadata": {
        "id": "view-in-github",
        "colab_type": "text"
      },
      "source": [
        "<a href=\"https://colab.research.google.com/github/UNO998/tensorFlow_tutor/blob/master/CNN_TUTOR_BLOG/CNN_test1.ipynb\" target=\"_parent\"><img src=\"https://colab.research.google.com/assets/colab-badge.svg\" alt=\"Open In Colab\"/></a>"
      ]
    },
    {
      "metadata": {
        "id": "m5LQ7_2Utq8i",
        "colab_type": "text"
      },
      "cell_type": "markdown",
      "source": [
        "## [CNN卷积神经网络原理讲解+图片识别应用（附源码)](https://blog.csdn.net/kun1280437633/article/details/80817129)\n",
        "\n",
        "- 这个主要是根据博客的内容学习基本的CNN的知识\n",
        "- 使用tensorflow作为框架"
      ]
    },
    {
      "metadata": {
        "id": "gz1FaKCAux_e",
        "colab_type": "text"
      },
      "cell_type": "markdown",
      "source": [
        "1. 数据集的读取，以及数据预定义"
      ]
    },
    {
      "metadata": {
        "id": "UsYSbeuQtiHp",
        "colab_type": "code",
        "colab": {}
      },
      "cell_type": "code",
      "source": [
        "from tensorflow.examples.tutorials.mnist import input_data\n",
        "# 读取MNIST 数据集\n",
        "mnist = input_data.read_data_sets('MNIST_data', one_hot=True)\n",
        "#预定输入值X，输出真实值Y placeholder为占位符\n",
        "x = tf.placeholder(tf.float32, shape=[None, 784])\n",
        "y_ = tf.placeholder(tf.float32, shape=[None, 10])\n",
        "keep_prob = tf.placeholder(tf.float32)\n",
        "x_image = tf.reshape(x, [-1,28,28,1])"
      ],
      "execution_count": 0,
      "outputs": []
    },
    {
      "metadata": {
        "id": "0vdjLCKnwxL_",
        "colab_type": "text"
      },
      "cell_type": "markdown",
      "source": [
        "- MNIST 是Google经典的做图像识别的数据库，图片大小是28*28，需要先下载才能使用\n",
        "- x, y_ 现在都是用占位符表示，当程序运行到一定指令，向x, y_传入具体的值后，就可以代入进行计算了\n",
        "- shape=[None, 784]是数据纬度大小\n",
        "  - MNIST数据集中每一张图片的大小都是28*28，计算时候将28*28二维数据转换为一个一维的，长度为784的新向量。None表示值大小不定，即选中的x, y_数量暂时不定\n",
        "- keep_prob 是改变参与计算的神经元个数的值\n"
      ]
    },
    {
      "metadata": {
        "id": "gvDgh7x4yjDI",
        "colab_type": "text"
      },
      "cell_type": "markdown",
      "source": [
        "2. 权重，偏置值函数"
      ]
    },
    {
      "metadata": {
        "id": "hbnlbooGtqoS",
        "colab_type": "code",
        "colab": {}
      },
      "cell_type": "code",
      "source": [
        "def weight_variable(shape):\n",
        "  # 产生随机变量\n",
        "  initial = tf.truncated_normal(shape, steddev=0.1)\n",
        "  return tf.Varialbe(initial)\n",
        "def bias_variable(shape):\n",
        "  initial = tf.constant(0.1, shape=shape)\n",
        "  return tf.Variable(initial)"
      ],
      "execution_count": 0,
      "outputs": []
    },
    {
      "metadata": {
        "id": "gfb8B78qzRnA",
        "colab_type": "text"
      },
      "cell_type": "markdown",
      "source": [
        "truncated_normal() 函数： 选取位于正态分布均值=0.1附近的随机值"
      ]
    },
    {
      "metadata": {
        "id": "kWYmurd2zgXJ",
        "colab_type": "text"
      },
      "cell_type": "markdown",
      "source": [
        "3. 卷积函数，池化函数定义"
      ]
    },
    {
      "metadata": {
        "id": "DuLBl2gfzlZt",
        "colab_type": "code",
        "colab": {}
      },
      "cell_type": "code",
      "source": [
        "def conv2d(x, W):\n",
        "  #stride = [1, 水平移动步长，竖直移动步长，1]\n",
        "  return tf.nn.conv2d(x, W, strides=[1, 1, 1, 1], padding='SAME')\n",
        "def max_pool_2x2(x):\n",
        "  # stride = [1, 水平移动步长， 竖直移动步长，1]\n",
        "  return tf.nn.max_pool(x, ksize=[1, 2, 2, 1], strides=[1, 2, 2, 1], padding='SAME')"
      ],
      "execution_count": 0,
      "outputs": []
    },
    {
      "metadata": {
        "id": "BYQ-dabi0TTJ",
        "colab_type": "text"
      },
      "cell_type": "markdown",
      "source": [
        "- 输入x是图片信息矩阵， W是卷积核的值\n",
        "- 卷积conv2d()函数里， strides参数要求第一个和最后一个参数必须是1\n",
        "- padding\n",
        "  - 当卷积层步长值越大，得到的输出图像的规格就会越小。为了使得到的图像的规格和愿图像保持一样大，在输入图像四周填充足够多的0边界就可以解决这个问题，这时候padding 参数就是'SAME' \n",
        "  - ‘VALID’\n",
        "    - 不用0来填充边界，这时候得到的图像规格会小于原图像。\n",
        "    - 新图像尺寸大小 = 原数据尺寸大小- 卷积核尺寸大小 + 1 （一般选择\"SAME\"）\n",
        "- 池化函数使用2*2 大小的模版做max_pooling\n",
        "\n",
        "\n",
        "详细解释可以参考原博客"
      ]
    },
    {
      "metadata": {
        "id": "sTLeNGL_v6aM",
        "colab_type": "text"
      },
      "cell_type": "markdown",
      "source": [
        "4. 第一次卷积 + 池化"
      ]
    },
    {
      "metadata": {
        "id": "ibzw9LQb2MUy",
        "colab_type": "code",
        "colab": {}
      },
      "cell_type": "code",
      "source": [
        "x_images = tf.reshape(x, [-1, 28, 28, 1])\n",
        "# 卷积层1网络结构定义\n",
        "# 卷积核1: patch = 5*5; in size 1; out size 32; 激活函数reLU非线性处理\n",
        "W_conv1 = weight_varialbe([5, 5, 1, 32])\n",
        "b_conv1 = bias_variable([32])\n",
        "# output size 28*28*32\n",
        "h_conv1 = tf.nn.relu(conv2d(x_image, W_conv1) + v_conv1)\n",
        "# output size 14*14*32\n",
        "h_pool1 = max_pool_2x2(h_conv1)"
      ],
      "execution_count": 0,
      "outputs": []
    },
    {
      "metadata": {
        "id": "YX24eZT5Mds6",
        "colab_type": "text"
      },
      "cell_type": "markdown",
      "source": [
        "- 图片集是黑白单色， x_image中的图片尺寸参数最后一个= 1 ，彩色 = 3\n",
        "- 这里的卷积核大小是5*5， 输入通道是1， 输出的通道数是32\n",
        "- 卷积核的值这里就相当于权重值， 用随机数列生成的方式得到\n",
        "- 由于MNIST数据集图片大小都是28x28，而且都是黑白单色，所以准确的图片尺寸大小都是28x28x1，所以经过第一次卷积后，输出的通道数变成了32， 图片尺寸变为（28x28x32）\n",
        "- 在经过第一池化（池化步长是2），图片尺寸为14x14x32"
      ]
    },
    {
      "metadata": {
        "id": "mp6OgAiLNsZG",
        "colab_type": "code",
        "colab": {}
      },
      "cell_type": "code",
      "source": [
        "5. 第二次卷积 + 池化\n"
      ],
      "execution_count": 0,
      "outputs": []
    },
    {
      "metadata": {
        "id": "04cREuTkN6WB",
        "colab_type": "code",
        "colab": {}
      },
      "cell_type": "code",
      "source": [
        "# 卷积层2网络结构定义\n",
        "# 卷积核2 ： patch = 5 x 5; in size 32; out size 64; 激活函数reLU非线性处理\n",
        "W_conv2 = weight_variable([5, 5, 32, 64])\n",
        "b_conv2 = bias_variable([64])\n",
        "# output size 14 x 14 x 64\n",
        "h_conv2 = tf.nn.relu(conv2d(h_pool1, W_conv2) + b_conv2)\n",
        "# output size 7 x 7 x 64\n",
        "h_pool2 = max_pool_2x2(h_conv2)\n"
      ],
      "execution_count": 0,
      "outputs": []
    },
    {
      "metadata": {
        "id": "80l5N4GAOhQf",
        "colab_type": "text"
      },
      "cell_type": "markdown",
      "source": [
        "- 这里的卷积核大小为5 x 5， 第二次输入的通道数是32， 输出的通道数是64\n",
        "- 第一次卷积+ 池化输出的图片大小是14 x 14 x 32，经过第二次卷积后图片尺寸变成： 14 x 14 x 64\n",
        "- 再经过第二次池化（池化步长2）"
      ]
    }
  ]
}