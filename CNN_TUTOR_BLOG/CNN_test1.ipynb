{
  "nbformat": 4,
  "nbformat_minor": 0,
  "metadata": {
    "colab": {
      "name": "CNN_test1.ipynb",
      "version": "0.3.2",
      "provenance": [],
      "include_colab_link": true
    },
    "kernelspec": {
      "name": "python3",
      "display_name": "Python 3"
    }
  },
  "cells": [
    {
      "cell_type": "markdown",
      "metadata": {
        "id": "view-in-github",
        "colab_type": "text"
      },
      "source": [
        "<a href=\"https://colab.research.google.com/github/UNO998/tensorFlow_tutor/blob/master/CNN_TUTOR_BLOG/CNN_test1.ipynb\" target=\"_parent\"><img src=\"https://colab.research.google.com/assets/colab-badge.svg\" alt=\"Open In Colab\"/></a>"
      ]
    },
    {
      "metadata": {
        "id": "m5LQ7_2Utq8i",
        "colab_type": "text"
      },
      "cell_type": "markdown",
      "source": [
        "## [CNN卷积神经网络原理讲解+图片识别应用（附源码)](https://blog.csdn.net/kun1280437633/article/details/80817129)\n",
        "\n",
        "- 这个主要是根据博客的内容学习基本的CNN的知识\n",
        "- 使用tensorflow作为框架"
      ]
    },
    {
      "metadata": {
        "id": "gz1FaKCAux_e",
        "colab_type": "text"
      },
      "cell_type": "markdown",
      "source": [
        "1. 数据集的读取，以及数据预定义"
      ]
    },
    {
      "metadata": {
        "id": "UsYSbeuQtiHp",
        "colab_type": "code",
        "colab": {}
      },
      "cell_type": "code",
      "source": [
        "from tensorflow"
      ],
      "execution_count": 0,
      "outputs": []
    },
    {
      "metadata": {
        "id": "hbnlbooGtqoS",
        "colab_type": "code",
        "colab": {}
      },
      "cell_type": "code",
      "source": [
        ""
      ],
      "execution_count": 0,
      "outputs": []
    }
  ]
}