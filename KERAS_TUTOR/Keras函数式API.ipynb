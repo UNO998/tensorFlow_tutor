{
  "nbformat": 4,
  "nbformat_minor": 0,
  "metadata": {
    "colab": {
      "name": "Keras函数式API.ipynb",
      "version": "0.3.2",
      "provenance": [],
      "include_colab_link": true
    },
    "kernelspec": {
      "name": "python3",
      "display_name": "Python 3"
    }
  },
  "cells": [
    {
      "cell_type": "markdown",
      "metadata": {
        "id": "view-in-github",
        "colab_type": "text"
      },
      "source": [
        "<a href=\"https://colab.research.google.com/github/UNO998/tensorFlow_tutor/blob/master/KERAS_TUTOR/Keras%E5%87%BD%E6%95%B0%E5%BC%8FAPI.ipynb\" target=\"_parent\"><img src=\"https://colab.research.google.com/assets/colab-badge.svg\" alt=\"Open In Colab\"/></a>"
      ]
    },
    {
      "metadata": {
        "id": "tSajusuOvMUu",
        "colab_type": "text"
      },
      "cell_type": "markdown",
      "source": [
        "## 使用Keras函数式API\n",
        "\n",
        "- Keras 函数式API是定义复杂模型（如多输出模型，有向无环图，或者具有共享层的模型）的方法\n"
      ]
    },
    {
      "metadata": {
        "id": "jRiucuwnvl7k",
        "colab_type": "text"
      },
      "cell_type": "markdown",
      "source": [
        "### 例一： 全连接网络\n",
        "\n",
        "- 这是一个全连接网络，也就是最简单的模型\n",
        "- 本来可以使用Sequential模型来实现，但是也可以通过这个例子来表达函数式模型\n",
        "  - 网络层的实例是可调用的，它以张量为参数，并且返回一个张量\n",
        "    - 就是可以将一层作为一个变量来存储（个人理解，可以看下面的例子）\n",
        "  - 输入和输出均是张量，他们都可以用来定义一个模型（model）\n",
        "  - 这样的模型同Keras 的 Sequential 模型一样，都可以被训练\n",
        "  \n",
        "  \n",
        "```\n",
        "from keras.layers import Input, Dense\n",
        "from keras.models import Model\n",
        "\n",
        "# 这部分返回一个张量\n",
        "inputs = Input(shape=(784, ))\n",
        "\n",
        "# 层的实例是可以调用的，以张量为参数，并且返回张量\n",
        "x = Dense(64, activation='relu')(inputs)\n",
        "x = Dense(64, activation='relu')(x)\n",
        "predictions = Dense(10, activation='softmax')(x)\n",
        "\n",
        "model = Model(inputs=inputs, outputs=predictions)\n",
        "model.compile(optimizer='rmsgprop', loss='categorical_crossentropy', metrics=['accuracy'])\n",
        "model.fit(data, labels)\n",
        "```\n",
        "\n",
        "\n",
        "----------------\n",
        "### 所有的模型都可以调用，就像网络层一样\n",
        "- 利用函数式API， 可以方便的重用训练好的模型\n",
        "- 可以将任何模型看作是一个层，然后通过一个张量进行调用\n",
        "- 在调用模型的时候，不仅重用模型结构，还重用了权重\n",
        "\n",
        "```\n",
        "x = Input(shape(784, )\n",
        "y = model(x)\n",
        "```\n",
        "\n",
        "后面还有一些例子，但是主要是讲解可以通过函数式API来实现模型的编写的例子"
      ]
    },
    {
      "metadata": {
        "id": "XAjqG0npvIE2",
        "colab_type": "code",
        "colab": {}
      },
      "cell_type": "code",
      "source": [
        ""
      ],
      "execution_count": 0,
      "outputs": []
    }
  ]
}