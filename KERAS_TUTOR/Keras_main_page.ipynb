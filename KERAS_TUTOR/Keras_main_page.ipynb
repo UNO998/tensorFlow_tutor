{
  "nbformat": 4,
  "nbformat_minor": 0,
  "metadata": {
    "colab": {
      "name": "Keras_main_page.ipynb",
      "version": "0.3.2",
      "provenance": [],
      "include_colab_link": true
    },
    "kernelspec": {
      "name": "python3",
      "display_name": "Python 3"
    }
  },
  "cells": [
    {
      "cell_type": "markdown",
      "metadata": {
        "id": "view-in-github",
        "colab_type": "text"
      },
      "source": [
        "<a href=\"https://colab.research.google.com/github/UNO998/tensorFlow_tutor/blob/master/KERAS_TUTOR/Keras_main_page.ipynb\" target=\"_parent\"><img src=\"https://colab.research.google.com/assets/colab-badge.svg\" alt=\"Open In Colab\"/></a>"
      ]
    },
    {
      "metadata": {
        "id": "p7pL2DMpH6Pz",
        "colab_type": "text"
      },
      "cell_type": "markdown",
      "source": [
        "## Keras \n",
        "\n",
        "本文主要是参照Keras中文网页的简介来学习的；\n",
        "网址：[keras](https://keras.io/zh/)\n",
        "\n",
        "### 目录：\n",
        "  - 主页：\n",
        "    - 简介\n",
        "    - 指导原则\n",
        "    - 快速开始\n",
        "    - 安装指引\n",
        "    - 使用TensorFlow意外以外的后段\n",
        "  - 快速开始\n",
        "    - Sequential 顺序模型指引\n",
        "    - 函数式API指引\n",
        "  - 模型\n",
        "    - 关于Keras 模型\n",
        "    - Sequential 顺序模型API\n",
        "    - 函数式API\n",
        "  - layers\n",
        "    - 关于Keras网络层\n",
        "    - 核心网络层\n",
        "    - 卷积层Convolutional\n",
        "    - 池化层pooling\n",
        "    - 局部连接层 Locally-connected\n",
        "    - 循环层 Recurrent\n",
        "    - 嵌入层 Embedding\n",
        "    - 融合层 Merge\n",
        "    - 高级激活层 Advanced Activations\n",
        "    - 标准化层 Normalization\n",
        "    - 噪声层 Noise\n",
        "    - 层封装器 Wrappers\n",
        "    - 编写自己的层\n",
        "  - 数据预处理\n",
        "    - 序列预处理\n",
        "    - 文本预处理\n",
        "    - 图像预处理\n",
        "  - 损失函数 Losses\n",
        "  - 评估标准 Metrics\n",
        "  - 优化器 Optimizers\n",
        "  - 激活函数 Activations\n",
        "  - 回调函数 Callbacks\n",
        "  - 常用数据集 Datasets\n",
        "  - 应用 Applications\n",
        "  - 后端 Backend\n",
        "  - 初始化Initializers\n",
        "  - 正则化 Regularizers\n",
        "  - 约束Constraints\n",
        "  - 可视化 Visualization\n",
        "  - Scikit-learn API"
      ]
    },
    {
      "metadata": {
        "id": "OD5vDrA9nolA",
        "colab_type": "text"
      },
      "cell_type": "markdown",
      "source": [
        "### Keras 主页：\n",
        "  keras是用Python编写的高级神经网络API，能够使用TensorFlow， CNTK， 或者Theano作为后端运行。\n",
        "  \n",
        "  \n",
        " ---------------\n",
        " #### 指导原则：\n",
        " - 用户友好：\n",
        " - 模块化\n",
        " - 易扩展性\n",
        " - 基于Python\n",
        " \n",
        " "
      ]
    },
    {
      "metadata": {
        "id": "P-JSGgapoUVl",
        "colab_type": "text"
      },
      "cell_type": "markdown",
      "source": [
        "#### 快速开始\n",
        "\n",
        "- keras 核心数据结构是model\n",
        "- model\n",
        "  - 一种住址网络层的方式\n",
        "  - 由多个网络层线性堆叠\n",
        "  - 对于复杂的结构，使用Keras 函数API，可以构建任意的神经网络图\n",
        "  \n"
      ]
    },
    {
      "metadata": {
        "id": "no0kn9ZnH49q",
        "colab_type": "code",
        "colab": {}
      },
      "cell_type": "code",
      "source": [
        "# sequential 顺序模型如下：\n",
        "from keras.models import Sequential\n",
        "model = Sequential()\n",
        "\n",
        "# 可以使用.add() 来堆叠模型：\n",
        "from keras.layers import Dense\n",
        "model.add(Dense(units=64, activation='relu', input_dim=100))\n",
        "model.add(Dense(units=10, activation='softmax'))\n",
        "\n",
        "# 可以使用.compile()来配置学习过程：\n",
        "model.compile(loss='categorical_crossentropy',\n",
        "              optimizer='sgd',\n",
        "              metrics=['accuracy'])\n",
        "\n",
        "# 代码的控制性也很好\n",
        "model.compile(loss=keras.losses.categorical_crossentropy,\n",
        "              optimizer=keras.optimizers.SDG(lr=0.01, momentum=0.9, nesterov=True))\n",
        "\n",
        "# 批量在训练数据上进行迭代\n",
        "# x_train and y_train are Numpy array\n",
        "model.fit(x_train, y_train, epochs=5, batch_size=32)\n",
        "\n",
        "# 手动将批量的数据提供给模型\n",
        "model.train_on_batch(x_batch, y_batch)\n",
        "\n",
        "# 评估模型性能：\n",
        "loss_and_metrics = model.evaluate(x_test, y_test, batch_size=128)\n",
        "\n",
        "# 或者对新数据生成预测：\n",
        "classes = model.predict(x_test, batch_size=128)\n"
      ],
      "execution_count": 0,
      "outputs": []
    }
  ]
}