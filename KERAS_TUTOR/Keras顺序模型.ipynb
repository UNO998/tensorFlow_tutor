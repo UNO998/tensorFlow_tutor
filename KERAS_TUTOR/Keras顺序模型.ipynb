{
  "nbformat": 4,
  "nbformat_minor": 0,
  "metadata": {
    "colab": {
      "name": "Keras顺序模型.ipynb",
      "version": "0.3.2",
      "provenance": [],
      "include_colab_link": true
    },
    "kernelspec": {
      "name": "python3",
      "display_name": "Python 3"
    }
  },
  "cells": [
    {
      "cell_type": "markdown",
      "metadata": {
        "id": "view-in-github",
        "colab_type": "text"
      },
      "source": [
        "<a href=\"https://colab.research.google.com/github/UNO998/tensorFlow_tutor/blob/master/KERAS_TUTOR/Keras%E9%A1%BA%E5%BA%8F%E6%A8%A1%E5%9E%8B.ipynb\" target=\"_parent\"><img src=\"https://colab.research.google.com/assets/colab-badge.svg\" alt=\"Open In Colab\"/></a>"
      ]
    },
    {
      "metadata": {
        "id": "X1jtv5lsrWUc",
        "colab_type": "text"
      },
      "cell_type": "markdown",
      "source": [
        "## [Keras 顺序模型（sequential)](https://keras.io/zh/getting-started/sequential-model-guide/)\n",
        "\n",
        "- 顺序模型是多个网络层的线性堆叠\n",
        "- 可以通过将层的列表传递给`Sequential`的构造函数，来创建一个Sequential模型：\n",
        " "
      ]
    },
    {
      "metadata": {
        "id": "DEKAx6pRrVR4",
        "colab_type": "code",
        "colab": {}
      },
      "cell_type": "code",
      "source": [
        "from keras.models import Sequential\n",
        "from keras.layers import Dense, Activation\n",
        "\n",
        "model = Sequential([\n",
        "    Dense(32, input_shape=(784, )),\n",
        "    Activation('relu'),\n",
        "    Dense(10),\n",
        "    Activation('softmax'),\n",
        "])"
      ],
      "execution_count": 0,
      "outputs": []
    },
    {
      "metadata": {
        "id": "PIIqcmlMsg9s",
        "colab_type": "text"
      },
      "cell_type": "markdown",
      "source": [
        "或者通过.add()方法加入到模型中：\n"
      ]
    },
    {
      "metadata": {
        "id": "ObP88niOslzo",
        "colab_type": "code",
        "colab": {}
      },
      "cell_type": "code",
      "source": [
        "model = Sequential()\n",
        "model.add(Dense(32, input_dim=784))\n",
        "model.add(Activation('relu'))"
      ],
      "execution_count": 0,
      "outputs": []
    },
    {
      "metadata": {
        "id": "hFjpWtKCrkY-",
        "colab_type": "text"
      },
      "cell_type": "markdown",
      "source": [
        "### 指定输入数据的尺寸\n",
        "- 输入一个tuple\n",
        "  - input_shape\n",
        "   - None可以表示为任何正整数\n",
        "   - 不包含数据的batch大小\n",
        "- input_dim\n",
        "  - 2D 层，比如Dense\n",
        "  - 3D - input_dim and input_length\n",
        "  \n",
        "  \n",
        "```\n",
        "model = Sequential()\n",
        "model.add(Dense(32, input_shape=(784,)))\n",
        "```\n",
        " 等价于\n",
        " ```\n",
        " model = Sequential()\n",
        " model.add(Dense(32, input_dim=784))\n",
        " ```"
      ]
    },
    {
      "metadata": {
        "id": "7DbB93hsxYs7",
        "colab_type": "text"
      },
      "cell_type": "markdown",
      "source": [
        "### 编译\n",
        "\n",
        "- 通过使用compile方法完成：\n",
        "  - 接受的三个参数：\n",
        "    - Optimizer优化器：\n",
        "    - 损失函数loss\n",
        "    - 评估标准metrics\n",
        "      - 一般是使用 metrics=['accuracy']\n",
        "      - 评估函数就是指accuracy等的评估标准\n",
        "      \n",
        "```\n",
        "# 多分类问题\n",
        "model.compile(optimizer='rmsprop',loss='categorical_crossentropy', metrics=['accuracy'])\n",
        "\n",
        "# 二分类问题\n",
        "model.compile(optimizer='rmsprop',loss='binary_crossentropy', metrics=['accuracy'])\n",
        "\n",
        "# 均方误差回归问题\n",
        "model.compile(optimizer='rmsprop', loss='mse')\n",
        "\n",
        "# 自定义评估标准函数\n",
        "import keras.backend as K\n",
        "\n",
        "def mean_pred(y_true, y_pred):\n",
        "    return K.mean(y_pred)\n",
        "    \n",
        "model.compile(optimizer='rmsprop', loss='binary_crossentropy', metrics=['accuracy', mean_pred])\n",
        "```"
      ]
    },
    {
      "metadata": {
        "id": "ZFhe3QdLzfbd",
        "colab_type": "text"
      },
      "cell_type": "markdown",
      "source": [
        "### 训练\n",
        "使用.fit函数进行训练\n",
        "\n",
        "```\n",
        "# 对于具有2个类的但输入模型（二进制分类）：\n",
        "model = Sequential()\n",
        "model.add(Dense(32, activation='relu', input_dim=100))\n",
        "model.add(Dense(1, activation='sigmoid'))\n",
        "model.compile(optimizer='rmsprop', loss='binary_crossentropy', metrics=['accuracy'])\n",
        "\n",
        "# 生成虚拟数据\n",
        "import numpy as np\n",
        "data = np.random.random((1000, 100))\n",
        "labels = np.random.randint(2, size(1000, 1))\n",
        "\n",
        "# 训练模型，以32个样本为一个batch进行迭代\n",
        "model.fit(data, labels, epochs=10, batch_size=32)\n",
        "```\n",
        "\n",
        "----------------------\n",
        "```\n",
        " # 对于具有10个类的单输入模型\n",
        " model = Sequential()\n",
        " model.add(Dense(32, activation='relu', input_dim=100))\n",
        " model.add(Dense(10, activation='softmax'))\n",
        " model.compile(optimizer='rmsprop', loss='categorical_crossentropy', metrics=['accuracy'])\n",
        " \n",
        " # 生成虚拟函数\n",
        " import numpy as np\n",
        " data = np.random.random((1000, 100))\n",
        " labels = np.random.randint(10, size=(1000 ,1))\n",
        " \n",
        " # 将标签转换为分类的 one-hot编码\n",
        " one_hot_labels = keras.utils.to_categorical(labels, num_classes=10)\n",
        " \n",
        " # 训练模型，以32个样本为一个 batch 进行迭代\n",
        " model.fit(data, one_hot_labels, epochs=10, batch_size=32)\n",
        "```\n",
        "\n",
        "\n",
        "---------------\n",
        "#### 基于多层感知器（MLP）的softmax多分类：\n",
        "```\n",
        "import keras\n",
        "from keras.models import Sequential\n",
        "form keras.layers import Dense, Dropout, Activation\n",
        "from keras.optimizers import SGD\n",
        "\n",
        "# 生成虚拟数据\n",
        "import numpy as np\n",
        "x_train = np.random.random((1000, 20))\n",
        "y_train = keras.utials.to_categorical(np.random.randint(10, size(1000, 1)), num_classes=10)\n",
        "x_test = np.random.random((100, 20))\n",
        "y_test = keras.utils.to_categoriacal(np.random.randint(10, size=(100, 1)), num_classes=10)\n",
        "\n",
        "model = Sequential()\n",
        "model.add(Dense(64, activation='relu', input_dim=20))\n",
        "model.add(Dropout(0.5))\n",
        "model.add(Dense(64,activation='relu'))\n",
        "model.add(Dropout(0.5))\n",
        "model.add(Dense(10, activation='softmax'))\n",
        "\n",
        "sgd = SGD(lr=0.01, decay=1e-6, momentum=0.9, nesterov=True)\n",
        "model.compile(loss='categorical_crossentropy',optimizer=sgd, metrics=['accracy'])\n",
        "\n",
        "model.fit(x_train, y_train, epochs=20, batch_size=128)\n",
        "score = model.evaluate(x_test, y_test, batch_size=128)\n",
        "```\n"
      ]
    },
    {
      "metadata": {
        "id": "Z6oiS1fKwuxL",
        "colab_type": "code",
        "colab": {}
      },
      "cell_type": "code",
      "source": [
        ""
      ],
      "execution_count": 0,
      "outputs": []
    }
  ]
}