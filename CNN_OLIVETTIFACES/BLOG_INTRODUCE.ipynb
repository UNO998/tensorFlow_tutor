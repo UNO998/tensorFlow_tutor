{
  "nbformat": 4,
  "nbformat_minor": 0,
  "metadata": {
    "colab": {
      "name": "CNN_OLIVETTIFACES.ipynb",
      "version": "0.3.2",
      "provenance": [],
      "include_colab_link": true
    },
    "kernelspec": {
      "name": "python3",
      "display_name": "Python 3"
    }
  },
  "cells": [
    {
      "cell_type": "markdown",
      "metadata": {
        "id": "view-in-github",
        "colab_type": "text"
      },
      "source": [
        "<a href=\"https://colab.research.google.com/github/UNO998/tensorFlow_tutor/blob/master/CNN_OLIVETTIFACES/BLOG_INTRODUCE.ipynb\" target=\"_parent\"><img src=\"https://colab.research.google.com/assets/colab-badge.svg\" alt=\"Open In Colab\"/></a>"
      ]
    },
    {
      "metadata": {
        "id": "8G02CBXYtNMB",
        "colab_type": "text"
      },
      "cell_type": "markdown",
      "source": [
        "## [CNN卷积神经网络应用与人脸识别](https://www.cnblogs.com/zhangyang520/p/7783539.html)\n",
        "\n",
        "- [博客github地址](https://github.com/wepe/MachineLearning/tree/master/DeepLearning%20Tutorials/FaceRecognition_CNN(olivettifaces)\n",
        "\n",
        "- 目标：\n",
        "  - CNN应用于人脸识别的流程\n",
        "  - python + numpy + theano + PIL \n",
        "  - 采用类似LeNet5的CNN模型\n",
        "  - olivettifaces人脸数据库\n",
        "  - 因为样本很小，模型容易产生过拟合\n",
        "  \n",
        "- 目录：\n",
        "  - olivettifaces 人脸数据库介绍\n",
        "  - CNN的基本构件\n",
        "    - logisticRegression\n",
        "    - HiddenLayer\n",
        "    - LeNetConvPoolLayer\n",
        "  - 组建CNN模型，设置优化算法，引入Olivattiface数据库\n",
        "  - 训练结构以及参数设置的讨论\n",
        "  - 利用训练好的参数初始化模型\n",
        "-----------------------------\n",
        "### Olivettifaces 人脸数据库介绍\n",
        "- 网址：https://cs.nyu.edu/~roweis/data/olivettifaces.gif\n",
        "- 40个人，400张图片\n",
        "- 每张图片：64X64\n",
        "- 使用python的图像库 PIL进行处理，转化为数组。：https://blog.csdn.net/u012162613/article/details/43226127\n",
        "- training_set : 320\n",
        "- validation_set: 40\n",
        "- testing_set: 40\n",
        "- label : 0 ~ 39\n"
      ]
    },
    {
      "metadata": {
        "id": "xlYE_GxKtMTw",
        "colab_type": "code",
        "colab": {}
      },
      "cell_type": "code",
      "source": [
        ""
      ],
      "execution_count": 0,
      "outputs": []
    }
  ]
}