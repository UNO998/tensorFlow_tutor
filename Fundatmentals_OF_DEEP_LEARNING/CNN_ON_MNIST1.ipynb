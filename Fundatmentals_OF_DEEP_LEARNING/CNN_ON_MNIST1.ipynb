{
  "nbformat": 4,
  "nbformat_minor": 0,
  "metadata": {
    "colab": {
      "name": "CNN_ON_MNIST1.ipynb",
      "version": "0.3.2",
      "provenance": [],
      "include_colab_link": true
    },
    "kernelspec": {
      "name": "python3",
      "display_name": "Python 3"
    }
  },
  "cells": [
    {
      "cell_type": "markdown",
      "metadata": {
        "id": "view-in-github",
        "colab_type": "text"
      },
      "source": [
        "<a href=\"https://colab.research.google.com/github/UNO998/tensorFlow_tutor/blob/master/Fundatmentals_OF_DEEP_LEARNING/CNN_ON_MNIST1.ipynb\" target=\"_parent\"><img src=\"https://colab.research.google.com/assets/colab-badge.svg\" alt=\"Open In Colab\"/></a>"
      ]
    },
    {
      "metadata": {
        "id": "3sNbNGfAoKoL",
        "colab_type": "text"
      },
      "cell_type": "markdown",
      "source": [
        "### Closing the Loop on MNIST with Convilutional Networks\n",
        "\n",
        "Following tutor on book 《Fundamentals of Deep Learning》Page:101"
      ]
    },
    {
      "metadata": {
        "id": "lSaRrQf9oCEl",
        "colab_type": "code",
        "colab": {}
      },
      "cell_type": "code",
      "source": [
        "def conv2d(input, weight_shape, bias_shape):\n",
        "  in = weight_shape[0] * weight_shape[1] * weight_shape[2]\n",
        "  weight_init = tf.random_normal_initializer(stddev=(2.0/in)**0.5)\n",
        "  \n",
        "  W = tf.get_variable(\"W\", weight_shape, initializer=weight_init)\n",
        "  "
      ],
      "execution_count": 0,
      "outputs": []
    }
  ]
}