{
  "nbformat": 4,
  "nbformat_minor": 0,
  "metadata": {
    "colab": {
      "name": "Movie_Review_Classification.ipynb",
      "version": "0.3.2",
      "provenance": [],
      "include_colab_link": true
    },
    "kernelspec": {
      "name": "python3",
      "display_name": "Python 3"
    }
  },
  "cells": [
    {
      "cell_type": "markdown",
      "metadata": {
        "id": "view-in-github",
        "colab_type": "text"
      },
      "source": [
        "<a href=\"https://colab.research.google.com/github/UNO998/tensorFlow_tutor/blob/master/TENSORFLOW_TUTOR/Movie_Review_Classification.ipynb\" target=\"_parent\"><img src=\"https://colab.research.google.com/assets/colab-badge.svg\" alt=\"Open In Colab\"/></a>"
      ]
    },
    {
      "metadata": {
        "id": "yzH8UQlRqVAg",
        "colab_type": "text"
      },
      "cell_type": "markdown",
      "source": [
        "### [Text Classification with movie reviews](https://www.tensorflow.org/tutorials/keras/basic_text_classification)"
      ]
    },
    {
      "metadata": {
        "id": "C4MkgR1CqST7",
        "colab_type": "code",
        "colab": {
          "base_uri": "https://localhost:8080/",
          "height": 34
        },
        "outputId": "695ca96c-7d8c-4fd2-bbd1-2d37ff9c1697"
      },
      "cell_type": "code",
      "source": [
        "import tensorflow as tf\n",
        "from tensorflow import keras\n",
        "\n",
        "import numpy as np\n",
        "\n",
        "print(tf.__version__)"
      ],
      "execution_count": 4,
      "outputs": [
        {
          "output_type": "stream",
          "text": [
            "1.12.0\n"
          ],
          "name": "stdout"
        }
      ]
    },
    {
      "metadata": {
        "id": "4jom0m8vyM9f",
        "colab_type": "text"
      },
      "cell_type": "markdown",
      "source": [
        "### Download the IMDB dataset"
      ]
    },
    {
      "metadata": {
        "id": "0_wcVs93yMau",
        "colab_type": "code",
        "colab": {
          "base_uri": "https://localhost:8080/",
          "height": 71
        },
        "outputId": "52dbadf0-214b-401c-cf2b-14770b2f25af"
      },
      "cell_type": "code",
      "source": [
        "imdb = keras.datasets.imdb\n",
        "\n",
        "(train_data, train_labels), (test_data, test_labels) = imdb.load_data(num_words=10000)"
      ],
      "execution_count": 5,
      "outputs": [
        {
          "output_type": "stream",
          "text": [
            "Downloading data from https://storage.googleapis.com/tensorflow/tf-keras-datasets/imdb.npz\n",
            "17465344/17464789 [==============================] - 0s 0us/step\n"
          ],
          "name": "stdout"
        }
      ]
    },
    {
      "metadata": {
        "id": "_nnPpMPAyuuO",
        "colab_type": "text"
      },
      "cell_type": "markdown",
      "source": [
        "### Explore the data"
      ]
    },
    {
      "metadata": {
        "id": "gMd1ViA2ynxD",
        "colab_type": "code",
        "colab": {
          "base_uri": "https://localhost:8080/",
          "height": 34
        },
        "outputId": "a48a0d29-def6-4c0a-c770-a5b7df4d647b"
      },
      "cell_type": "code",
      "source": [
        "print(\"Training entries: {}, labels: {}\".format(len(train_data), len(train_labels)))"
      ],
      "execution_count": 6,
      "outputs": [
        {
          "output_type": "stream",
          "text": [
            "Training entries: 25000, labels: 25000\n"
          ],
          "name": "stdout"
        }
      ]
    },
    {
      "metadata": {
        "id": "R2BFEXkk0izD",
        "colab_type": "code",
        "colab": {
          "base_uri": "https://localhost:8080/",
          "height": 54
        },
        "outputId": "a6af2c2a-a4ab-4860-bf95-fc7cd6363fc9"
      },
      "cell_type": "code",
      "source": [
        "print(train_data[0])"
      ],
      "execution_count": 7,
      "outputs": [
        {
          "output_type": "stream",
          "text": [
            "[1, 14, 22, 16, 43, 530, 973, 1622, 1385, 65, 458, 4468, 66, 3941, 4, 173, 36, 256, 5, 25, 100, 43, 838, 112, 50, 670, 2, 9, 35, 480, 284, 5, 150, 4, 172, 112, 167, 2, 336, 385, 39, 4, 172, 4536, 1111, 17, 546, 38, 13, 447, 4, 192, 50, 16, 6, 147, 2025, 19, 14, 22, 4, 1920, 4613, 469, 4, 22, 71, 87, 12, 16, 43, 530, 38, 76, 15, 13, 1247, 4, 22, 17, 515, 17, 12, 16, 626, 18, 2, 5, 62, 386, 12, 8, 316, 8, 106, 5, 4, 2223, 5244, 16, 480, 66, 3785, 33, 4, 130, 12, 16, 38, 619, 5, 25, 124, 51, 36, 135, 48, 25, 1415, 33, 6, 22, 12, 215, 28, 77, 52, 5, 14, 407, 16, 82, 2, 8, 4, 107, 117, 5952, 15, 256, 4, 2, 7, 3766, 5, 723, 36, 71, 43, 530, 476, 26, 400, 317, 46, 7, 4, 2, 1029, 13, 104, 88, 4, 381, 15, 297, 98, 32, 2071, 56, 26, 141, 6, 194, 7486, 18, 4, 226, 22, 21, 134, 476, 26, 480, 5, 144, 30, 5535, 18, 51, 36, 28, 224, 92, 25, 104, 4, 226, 65, 16, 38, 1334, 88, 12, 16, 283, 5, 16, 4472, 113, 103, 32, 15, 16, 5345, 19, 178, 32]\n"
          ],
          "name": "stdout"
        }
      ]
    },
    {
      "metadata": {
        "id": "X_qyH0gf096Y",
        "colab_type": "code",
        "colab": {
          "base_uri": "https://localhost:8080/",
          "height": 34
        },
        "outputId": "4774785c-497c-4569-ea59-2d6b0c720c4e"
      },
      "cell_type": "code",
      "source": [
        "len(train_data[0]),len(train_data[1])"
      ],
      "execution_count": 8,
      "outputs": [
        {
          "output_type": "execute_result",
          "data": {
            "text/plain": [
              "(218, 189)"
            ]
          },
          "metadata": {
            "tags": []
          },
          "execution_count": 8
        }
      ]
    },
    {
      "metadata": {
        "id": "57Heg0oK1Saz",
        "colab_type": "text"
      },
      "cell_type": "markdown",
      "source": [
        "### Convert the integers back to words"
      ]
    },
    {
      "metadata": {
        "id": "DWNjQVL41kTz",
        "colab_type": "code",
        "colab": {
          "base_uri": "https://localhost:8080/",
          "height": 71
        },
        "outputId": "67e79d47-e3a9-49c6-c7dd-c08f77c53d13"
      },
      "cell_type": "code",
      "source": [
        "# A dictionary mapping words to an integer index\n",
        "word_index = imdb.get_word_index()\n",
        "\n",
        "# The first indices are reserved\n",
        "word_index = {k:(v+3) for k, v in word_index.items()}\n",
        "word_index[\"<PAD>\"] = 0\n",
        "word_index[\"<START>\"] = 1\n",
        "word_index[\"<UNK>\"] = 2 # unknown\n",
        "word_index[\"<UNUSED>\"] = 3\n",
        "\n",
        "reverse_word_index = dict([(value, key) for (key, value) in word_index.items()])\n",
        "def decode_review(text):\n",
        "  return ' '.join([reverse_word_index.get(i, '?') for i in text])"
      ],
      "execution_count": 9,
      "outputs": [
        {
          "output_type": "stream",
          "text": [
            "Downloading data from https://storage.googleapis.com/tensorflow/tf-keras-datasets/imdb_word_index.json\n",
            "1646592/1641221 [==============================] - 0s 0us/step\n"
          ],
          "name": "stdout"
        }
      ]
    },
    {
      "metadata": {
        "id": "ohgLoYkUaXfG",
        "colab_type": "code",
        "colab": {
          "base_uri": "https://localhost:8080/",
          "height": 54
        },
        "outputId": "0b535de3-7084-437c-bff0-8b0ab2e918d8"
      },
      "cell_type": "code",
      "source": [
        "decode_review(train_data[0])"
      ],
      "execution_count": 10,
      "outputs": [
        {
          "output_type": "execute_result",
          "data": {
            "text/plain": [
              "\"<START> this film was just brilliant casting location scenery story direction everyone's really suited the part they played and you could just imagine being there robert <UNK> is an amazing actor and now the same being director <UNK> father came from the same scottish island as myself so i loved the fact there was a real connection with this film the witty remarks throughout the film were great it was just brilliant so much that i bought the film as soon as it was released for <UNK> and would recommend it to everyone to watch and the fly fishing was amazing really cried at the end it was so sad and you know what they say if you cry at a film it must have been good and this definitely was also <UNK> to the two little boy's that played the <UNK> of norman and paul they were just brilliant children are often left out of the <UNK> list i think because the stars that play them all grown up are such a big profile for the whole film but these children are amazing and should be praised for what they have done don't you think the whole story was so lovely because it was true and was someone's life after all that was shared with us all\""
            ]
          },
          "metadata": {
            "tags": []
          },
          "execution_count": 10
        }
      ]
    },
    {
      "metadata": {
        "id": "a-B7txrcasQx",
        "colab_type": "text"
      },
      "cell_type": "markdown",
      "source": [
        "### Prepare the data"
      ]
    },
    {
      "metadata": {
        "id": "2c_UM7tdaiWD",
        "colab_type": "code",
        "colab": {}
      },
      "cell_type": "code",
      "source": [
        "train_data = keras.preprocessing.sequence.pad_sequences(train_data,\n",
        "                                                        value=word_index[\"<PAD>\"],\n",
        "                                                        padding='post',\n",
        "                                                        maxlen=256)\n",
        "\n",
        "test_data = keras.preprocessing.sequence.pad_sequences(test_data,\n",
        "                                                       value=word_index[\"<PAD>\"],\n",
        "                                                       padding='post',\n",
        "                                                       maxlen=256)"
      ],
      "execution_count": 0,
      "outputs": []
    },
    {
      "metadata": {
        "id": "wJQ3GUNvcYsQ",
        "colab_type": "code",
        "colab": {
          "base_uri": "https://localhost:8080/",
          "height": 34
        },
        "outputId": "5ac47405-4432-4300-824c-f1dd402016ec"
      },
      "cell_type": "code",
      "source": [
        "len(train_data[0]), len(train_data[1])"
      ],
      "execution_count": 13,
      "outputs": [
        {
          "output_type": "execute_result",
          "data": {
            "text/plain": [
              "(256, 256)"
            ]
          },
          "metadata": {
            "tags": []
          },
          "execution_count": 13
        }
      ]
    },
    {
      "metadata": {
        "id": "2PCDLNwhcgt3",
        "colab_type": "code",
        "colab": {
          "base_uri": "https://localhost:8080/",
          "height": 340
        },
        "outputId": "3daaabfc-f6fd-459e-fc49-0b207c5599bc"
      },
      "cell_type": "code",
      "source": [
        "print(train_data[0])"
      ],
      "execution_count": 14,
      "outputs": [
        {
          "output_type": "stream",
          "text": [
            "[   1   14   22   16   43  530  973 1622 1385   65  458 4468   66 3941\n",
            "    4  173   36  256    5   25  100   43  838  112   50  670    2    9\n",
            "   35  480  284    5  150    4  172  112  167    2  336  385   39    4\n",
            "  172 4536 1111   17  546   38   13  447    4  192   50   16    6  147\n",
            " 2025   19   14   22    4 1920 4613  469    4   22   71   87   12   16\n",
            "   43  530   38   76   15   13 1247    4   22   17  515   17   12   16\n",
            "  626   18    2    5   62  386   12    8  316    8  106    5    4 2223\n",
            " 5244   16  480   66 3785   33    4  130   12   16   38  619    5   25\n",
            "  124   51   36  135   48   25 1415   33    6   22   12  215   28   77\n",
            "   52    5   14  407   16   82    2    8    4  107  117 5952   15  256\n",
            "    4    2    7 3766    5  723   36   71   43  530  476   26  400  317\n",
            "   46    7    4    2 1029   13  104   88    4  381   15  297   98   32\n",
            " 2071   56   26  141    6  194 7486   18    4  226   22   21  134  476\n",
            "   26  480    5  144   30 5535   18   51   36   28  224   92   25  104\n",
            "    4  226   65   16   38 1334   88   12   16  283    5   16 4472  113\n",
            "  103   32   15   16 5345   19  178   32    0    0    0    0    0    0\n",
            "    0    0    0    0    0    0    0    0    0    0    0    0    0    0\n",
            "    0    0    0    0    0    0    0    0    0    0    0    0    0    0\n",
            "    0    0    0    0]\n"
          ],
          "name": "stdout"
        }
      ]
    },
    {
      "metadata": {
        "id": "8KfK0jcTcmoL",
        "colab_type": "text"
      },
      "cell_type": "markdown",
      "source": [
        "### Build the model"
      ]
    },
    {
      "metadata": {
        "id": "PM8cEH6ucow3",
        "colab_type": "code",
        "colab": {
          "base_uri": "https://localhost:8080/",
          "height": 272
        },
        "outputId": "f8c1ca7e-2fbe-486e-eb04-eb7a4e8171fa"
      },
      "cell_type": "code",
      "source": [
        "# input shape is the vocabulary count used for the movie reviews (10,000 words)\n",
        "vocab_size = 10000\n",
        "\n",
        "model = keras.Sequential()\n",
        "model.add(keras.layers.Embedding(vocab_size, 16))\n",
        "model.add(keras.layers.GlobalAveragePooling1D())\n",
        "model.add(keras.layers.Dense(16, activation=tf.nn.relu))\n",
        "model.add(keras.layers.Dense(1, activation=tf.nn.sigmoid))\n",
        "\n",
        "model.summary()"
      ],
      "execution_count": 16,
      "outputs": [
        {
          "output_type": "stream",
          "text": [
            "_________________________________________________________________\n",
            "Layer (type)                 Output Shape              Param #   \n",
            "=================================================================\n",
            "embedding_1 (Embedding)      (None, None, 16)          160000    \n",
            "_________________________________________________________________\n",
            "global_average_pooling1d_1 ( (None, 16)                0         \n",
            "_________________________________________________________________\n",
            "dense_2 (Dense)              (None, 16)                272       \n",
            "_________________________________________________________________\n",
            "dense_3 (Dense)              (None, 1)                 17        \n",
            "=================================================================\n",
            "Total params: 160,289\n",
            "Trainable params: 160,289\n",
            "Non-trainable params: 0\n",
            "_________________________________________________________________\n"
          ],
          "name": "stdout"
        }
      ]
    },
    {
      "metadata": {
        "id": "sZ1RAsFogXdv",
        "colab_type": "text"
      },
      "cell_type": "markdown",
      "source": [
        "### Loss Function and Optimizer"
      ]
    },
    {
      "metadata": {
        "id": "i3pGEgD1gas0",
        "colab_type": "code",
        "colab": {}
      },
      "cell_type": "code",
      "source": [
        "model.compile(optimizer=tf.train.AdamOptimizer(),\n",
        "              loss='binary_crossentropy',\n",
        "              metrics=['accuracy'])"
      ],
      "execution_count": 0,
      "outputs": []
    },
    {
      "metadata": {
        "id": "XuJCXoFzhbrP",
        "colab_type": "text"
      },
      "cell_type": "markdown",
      "source": [
        "### Create a validation set"
      ]
    },
    {
      "metadata": {
        "id": "efYuGDDKhgL2",
        "colab_type": "code",
        "colab": {}
      },
      "cell_type": "code",
      "source": [
        "x_val = train_data[:10000]\n",
        "partial_x_train = train_data[10000:]\n",
        "\n",
        "y_val = train_labels[:10000]\n",
        "partial_y_train = train_labels[10000:]"
      ],
      "execution_count": 0,
      "outputs": []
    },
    {
      "metadata": {
        "id": "NhornKwNjYX8",
        "colab_type": "code",
        "colab": {
          "base_uri": "https://localhost:8080/",
          "height": 34
        },
        "outputId": "e5cb787b-8e6a-487e-9650-b1fd8394668d"
      },
      "cell_type": "code",
      "source": [
        "len(x_val), len(partial_x_train)"
      ],
      "execution_count": 21,
      "outputs": [
        {
          "output_type": "execute_result",
          "data": {
            "text/plain": [
              "(10000, 15000)"
            ]
          },
          "metadata": {
            "tags": []
          },
          "execution_count": 21
        }
      ]
    },
    {
      "metadata": {
        "id": "_kekazoeh_71",
        "colab_type": "text"
      },
      "cell_type": "markdown",
      "source": [
        "### Train the model"
      ]
    },
    {
      "metadata": {
        "id": "eSOwFtzXiBus",
        "colab_type": "code",
        "colab": {
          "base_uri": "https://localhost:8080/",
          "height": 1414
        },
        "outputId": "a3d58782-cb89-4810-c0f4-fc07b55660af"
      },
      "cell_type": "code",
      "source": [
        "\n",
        "history = model.fit(partial_x_train,\n",
        "                    partial_y_train,\n",
        "                    epochs=40,\n",
        "                    batch_size=512,\n",
        "                    validation_data=(x_val, y_val),\n",
        "                    verbose=1)"
      ],
      "execution_count": 22,
      "outputs": [
        {
          "output_type": "stream",
          "text": [
            "Train on 15000 samples, validate on 10000 samples\n",
            "Epoch 1/40\n",
            "15000/15000 [==============================] - 2s 101us/step - loss: 0.6920 - acc: 0.5754 - val_loss: 0.6904 - val_acc: 0.5687\n",
            "Epoch 2/40\n",
            "15000/15000 [==============================] - 1s 62us/step - loss: 0.6870 - acc: 0.6842 - val_loss: 0.6837 - val_acc: 0.7461\n",
            "Epoch 3/40\n",
            "15000/15000 [==============================] - 1s 58us/step - loss: 0.6770 - acc: 0.7603 - val_loss: 0.6713 - val_acc: 0.7494\n",
            "Epoch 4/40\n",
            "15000/15000 [==============================] - 1s 58us/step - loss: 0.6590 - acc: 0.7709 - val_loss: 0.6511 - val_acc: 0.7528\n",
            "Epoch 5/40\n",
            "15000/15000 [==============================] - 1s 59us/step - loss: 0.6319 - acc: 0.7879 - val_loss: 0.6218 - val_acc: 0.7796\n",
            "Epoch 6/40\n",
            "15000/15000 [==============================] - 1s 59us/step - loss: 0.5966 - acc: 0.8053 - val_loss: 0.5869 - val_acc: 0.7978\n",
            "Epoch 7/40\n",
            "15000/15000 [==============================] - 1s 59us/step - loss: 0.5556 - acc: 0.8231 - val_loss: 0.5486 - val_acc: 0.8119\n",
            "Epoch 8/40\n",
            "15000/15000 [==============================] - 1s 60us/step - loss: 0.5126 - acc: 0.8389 - val_loss: 0.5100 - val_acc: 0.8248\n",
            "Epoch 9/40\n",
            "15000/15000 [==============================] - 1s 60us/step - loss: 0.4712 - acc: 0.8499 - val_loss: 0.4738 - val_acc: 0.8360\n",
            "Epoch 10/40\n",
            "15000/15000 [==============================] - 1s 59us/step - loss: 0.4325 - acc: 0.8639 - val_loss: 0.4419 - val_acc: 0.8443\n",
            "Epoch 11/40\n",
            "15000/15000 [==============================] - 1s 58us/step - loss: 0.3988 - acc: 0.8739 - val_loss: 0.4164 - val_acc: 0.8505\n",
            "Epoch 12/40\n",
            "15000/15000 [==============================] - 1s 59us/step - loss: 0.3696 - acc: 0.8815 - val_loss: 0.3918 - val_acc: 0.8578\n",
            "Epoch 13/40\n",
            "15000/15000 [==============================] - 1s 58us/step - loss: 0.3436 - acc: 0.8878 - val_loss: 0.3735 - val_acc: 0.8629\n",
            "Epoch 14/40\n",
            "15000/15000 [==============================] - 1s 59us/step - loss: 0.3218 - acc: 0.8947 - val_loss: 0.3573 - val_acc: 0.8673\n",
            "Epoch 15/40\n",
            "15000/15000 [==============================] - 1s 58us/step - loss: 0.3029 - acc: 0.8997 - val_loss: 0.3444 - val_acc: 0.8715\n",
            "Epoch 16/40\n",
            "15000/15000 [==============================] - 1s 58us/step - loss: 0.2867 - acc: 0.9017 - val_loss: 0.3339 - val_acc: 0.8737\n",
            "Epoch 17/40\n",
            "15000/15000 [==============================] - 1s 58us/step - loss: 0.2714 - acc: 0.9093 - val_loss: 0.3249 - val_acc: 0.8751\n",
            "Epoch 18/40\n",
            "15000/15000 [==============================] - 1s 59us/step - loss: 0.2581 - acc: 0.9131 - val_loss: 0.3173 - val_acc: 0.8782\n",
            "Epoch 19/40\n",
            "15000/15000 [==============================] - 1s 59us/step - loss: 0.2460 - acc: 0.9163 - val_loss: 0.3109 - val_acc: 0.8798\n",
            "Epoch 20/40\n",
            "15000/15000 [==============================] - 1s 59us/step - loss: 0.2353 - acc: 0.9206 - val_loss: 0.3060 - val_acc: 0.8809\n",
            "Epoch 21/40\n",
            "15000/15000 [==============================] - 1s 59us/step - loss: 0.2249 - acc: 0.9235 - val_loss: 0.3013 - val_acc: 0.8805\n",
            "Epoch 22/40\n",
            "15000/15000 [==============================] - 1s 61us/step - loss: 0.2154 - acc: 0.9269 - val_loss: 0.2979 - val_acc: 0.8820\n",
            "Epoch 23/40\n",
            "15000/15000 [==============================] - 1s 59us/step - loss: 0.2068 - acc: 0.9293 - val_loss: 0.2951 - val_acc: 0.8823\n",
            "Epoch 24/40\n",
            "15000/15000 [==============================] - 1s 59us/step - loss: 0.1982 - acc: 0.9335 - val_loss: 0.2918 - val_acc: 0.8835\n",
            "Epoch 25/40\n",
            "15000/15000 [==============================] - 1s 59us/step - loss: 0.1906 - acc: 0.9369 - val_loss: 0.2896 - val_acc: 0.8842\n",
            "Epoch 26/40\n",
            "15000/15000 [==============================] - 1s 60us/step - loss: 0.1831 - acc: 0.9401 - val_loss: 0.2883 - val_acc: 0.8845\n",
            "Epoch 27/40\n",
            "15000/15000 [==============================] - 1s 59us/step - loss: 0.1768 - acc: 0.9429 - val_loss: 0.2871 - val_acc: 0.8853\n",
            "Epoch 28/40\n",
            "15000/15000 [==============================] - 1s 58us/step - loss: 0.1700 - acc: 0.9462 - val_loss: 0.2859 - val_acc: 0.8854\n",
            "Epoch 29/40\n",
            "15000/15000 [==============================] - 1s 59us/step - loss: 0.1639 - acc: 0.9483 - val_loss: 0.2853 - val_acc: 0.8867\n",
            "Epoch 30/40\n",
            "15000/15000 [==============================] - 1s 60us/step - loss: 0.1584 - acc: 0.9501 - val_loss: 0.2854 - val_acc: 0.8862\n",
            "Epoch 31/40\n",
            "15000/15000 [==============================] - 1s 59us/step - loss: 0.1522 - acc: 0.9526 - val_loss: 0.2855 - val_acc: 0.8863\n",
            "Epoch 32/40\n",
            "15000/15000 [==============================] - 1s 59us/step - loss: 0.1472 - acc: 0.9551 - val_loss: 0.2861 - val_acc: 0.8867\n",
            "Epoch 33/40\n",
            "15000/15000 [==============================] - 1s 59us/step - loss: 0.1416 - acc: 0.9575 - val_loss: 0.2867 - val_acc: 0.8870\n",
            "Epoch 34/40\n",
            "15000/15000 [==============================] - 1s 59us/step - loss: 0.1368 - acc: 0.9596 - val_loss: 0.2874 - val_acc: 0.8871\n",
            "Epoch 35/40\n",
            "15000/15000 [==============================] - 1s 59us/step - loss: 0.1325 - acc: 0.9607 - val_loss: 0.2883 - val_acc: 0.8873\n",
            "Epoch 36/40\n",
            "15000/15000 [==============================] - 1s 59us/step - loss: 0.1274 - acc: 0.9643 - val_loss: 0.2900 - val_acc: 0.8867\n",
            "Epoch 37/40\n",
            "15000/15000 [==============================] - 1s 59us/step - loss: 0.1232 - acc: 0.9648 - val_loss: 0.2918 - val_acc: 0.8868\n",
            "Epoch 38/40\n",
            "15000/15000 [==============================] - 1s 59us/step - loss: 0.1195 - acc: 0.9660 - val_loss: 0.2928 - val_acc: 0.8865\n",
            "Epoch 39/40\n",
            "15000/15000 [==============================] - 1s 59us/step - loss: 0.1149 - acc: 0.9683 - val_loss: 0.2947 - val_acc: 0.8859\n",
            "Epoch 40/40\n",
            "15000/15000 [==============================] - 1s 58us/step - loss: 0.1110 - acc: 0.9695 - val_loss: 0.2964 - val_acc: 0.8852\n"
          ],
          "name": "stdout"
        }
      ]
    },
    {
      "metadata": {
        "id": "ct0aaeGuj9oo",
        "colab_type": "text"
      },
      "cell_type": "markdown",
      "source": [
        "### Evaluate the model"
      ]
    },
    {
      "metadata": {
        "id": "pjzjl7tlj86l",
        "colab_type": "code",
        "colab": {
          "base_uri": "https://localhost:8080/",
          "height": 51
        },
        "outputId": "cdb7a92a-ef70-49f5-e26c-82fd54c5a927"
      },
      "cell_type": "code",
      "source": [
        "results = model.evaluate(test_data, test_labels)\n",
        "\n",
        "print(results)"
      ],
      "execution_count": 23,
      "outputs": [
        {
          "output_type": "stream",
          "text": [
            "25000/25000 [==============================] - 1s 37us/step\n",
            "[0.31504357940673827, 0.87388]\n"
          ],
          "name": "stdout"
        }
      ]
    },
    {
      "metadata": {
        "id": "_Yox5wRfkN9L",
        "colab_type": "text"
      },
      "cell_type": "markdown",
      "source": [
        "### Create a graph of accuracy and loss over time"
      ]
    },
    {
      "metadata": {
        "id": "2RODxQ6zkSEY",
        "colab_type": "code",
        "colab": {
          "base_uri": "https://localhost:8080/",
          "height": 34
        },
        "outputId": "194d88eb-ed3a-4bd2-ca24-2ad9874fe12a"
      },
      "cell_type": "code",
      "source": [
        "history_dict = history.history\n",
        "history_dict.keys()"
      ],
      "execution_count": 24,
      "outputs": [
        {
          "output_type": "execute_result",
          "data": {
            "text/plain": [
              "dict_keys(['val_loss', 'val_acc', 'loss', 'acc'])"
            ]
          },
          "metadata": {
            "tags": []
          },
          "execution_count": 24
        }
      ]
    },
    {
      "metadata": {
        "id": "EYYzjK59k7wR",
        "colab_type": "code",
        "colab": {
          "base_uri": "https://localhost:8080/",
          "height": 376
        },
        "outputId": "f88efbcf-21f5-4f0c-c56a-14ead017ab66"
      },
      "cell_type": "code",
      "source": [
        "import matplotlib.pyplot as plt\n",
        "\n",
        "acc = history.history['acc']\n",
        "val_acc = history.history['val_acc']\n",
        "loss = history.history['loss']\n",
        "val_loss = history.history['val_loss']\n",
        "\n",
        "epochs = range(1, len(acc) + 1)\n",
        "\n",
        "# \"bo\" is for \"blue dot\"\n",
        "plt.plot(epochs, loss, 'bo', label='Training loss')\n",
        "# b is for \"solid blue line\"\n",
        "plt.plot(epochs, val_loss, 'b', label='Validation loss')\n",
        "plt.title('Training and validation loss')\n",
        "plt.xlabel('Epochs')\n",
        "plt.ylabel('Loss')\n",
        "plt.legend()\n",
        "\n",
        "plt.show()"
      ],
      "execution_count": 26,
      "outputs": [
        {
          "output_type": "display_data",
          "data": {
            "image/png": "[encoded data removed]",
            "text/plain": [
              "<matplotlib.figure.Figure at 0x7faf36ff86d8>"
            ]
          },
          "metadata": {
            "tags": []
          }
        }
      ]
    },
    {
      "metadata": {
        "id": "mlMR8IJEmY0e",
        "colab_type": "code",
        "colab": {
          "base_uri": "https://localhost:8080/",
          "height": 376
        },
        "outputId": "afc9174c-ec24-423a-b659-00a47370e90b"
      },
      "cell_type": "code",
      "source": [
        "plt.clf()      # clear figure\n",
        "acc_values = history_dict['acc']\n",
        "val_acc = history_dict['val_acc']\n",
        "\n",
        "plt.plot(epochs, acc, 'bo', label='Training acc')\n",
        "plt.plot(epochs, val_acc, 'b', label='Validation acc')\n",
        "plt.title('Training and validation accuracy')\n",
        "plt.xlabel('Epochs')\n",
        "plt.ylabel('Accuracy')\n",
        "plt.legend()\n",
        "\n",
        "plt.show()"
      ],
      "execution_count": 29,
      "outputs": [
        {
          "output_type": "display_data",
          "data": {
            "image/png": "[encoded data removed]",
            "text/plain": [
              "<matplotlib.figure.Figure at 0x7faf3246af28>"
            ]
          },
          "metadata": {
            "tags": []
          }
        }
      ]
    }
  ]
}